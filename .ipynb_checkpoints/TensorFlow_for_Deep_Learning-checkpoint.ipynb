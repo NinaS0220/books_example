{
 "cells": [
  {
   "cell_type": "markdown",
   "id": "7eff9ca7",
   "metadata": {},
   "source": [
    "## Chapter 2"
   ]
  },
  {
   "cell_type": "markdown",
   "id": "16527b0a",
   "metadata": {},
   "source": [
    "Инициализация интерактвиного сеанса Tensorflow"
   ]
  },
  {
   "cell_type": "code",
   "execution_count": 2,
   "id": "b1f8f997",
   "metadata": {},
   "outputs": [],
   "source": [
    "import tensorflow as tf"
   ]
  },
  {
   "cell_type": "code",
   "execution_count": 3,
   "id": "13f6aa93",
   "metadata": {},
   "outputs": [
    {
     "data": {
      "text/plain": [
       "'2.6.2'"
      ]
     },
     "execution_count": 3,
     "metadata": {},
     "output_type": "execute_result"
    }
   ],
   "source": [
    "tf.__version__"
   ]
  },
  {
   "cell_type": "code",
   "execution_count": 4,
   "id": "079e1964",
   "metadata": {},
   "outputs": [],
   "source": [
    "#from version v2.x you should use this for activate version\n",
    "import tensorflow.compat.v1 as tfc"
   ]
  },
  {
   "cell_type": "code",
   "execution_count": 141,
   "id": "7df7caf0",
   "metadata": {},
   "outputs": [
    {
     "name": "stderr",
     "output_type": "stream",
     "text": [
      "/home/nina/.local/lib/python3.6/site-packages/tensorflow/python/client/session.py:1766: UserWarning: An interactive session is already active. This can cause out-of-memory errors in some cases. You must explicitly call `InteractiveSession.close()` to release resources held by the other session(s).\n",
      "  warnings.warn('An interactive session is already active. This can '\n"
     ]
    }
   ],
   "source": [
    "sess = tfc.InteractiveSession()"
   ]
  },
  {
   "cell_type": "code",
   "execution_count": 10,
   "id": "06958b76",
   "metadata": {},
   "outputs": [],
   "source": [
    "# создание тензора нулей\n",
    "a = tf.zeros(2)"
   ]
  },
  {
   "cell_type": "code",
   "execution_count": 16,
   "id": "5aea118a",
   "metadata": {},
   "outputs": [
    {
     "name": "stdout",
     "output_type": "stream",
     "text": [
      "[0. 0.]\n"
     ]
    }
   ],
   "source": [
    "# возрат значения\n",
    "print(a.numpy())"
   ]
  },
  {
   "cell_type": "code",
   "execution_count": 17,
   "id": "d92a856a",
   "metadata": {},
   "outputs": [
    {
     "data": {
      "text/plain": [
       "array([[[1., 1.],\n",
       "        [1., 1.]],\n",
       "\n",
       "       [[1., 1.],\n",
       "        [1., 1.]]], dtype=float32)"
      ]
     },
     "execution_count": 17,
     "metadata": {},
     "output_type": "execute_result"
    }
   ],
   "source": [
    "# выведение матрицы с единицами\n",
    "b = tf.ones((2, 2, 2))\n",
    "b.numpy()"
   ]
  },
  {
   "cell_type": "code",
   "execution_count": 18,
   "id": "78a2121a",
   "metadata": {},
   "outputs": [
    {
     "data": {
      "text/plain": [
       "array([[5., 5.],\n",
       "       [5., 5.]], dtype=float32)"
      ]
     },
     "execution_count": 18,
     "metadata": {},
     "output_type": "execute_result"
    }
   ],
   "source": [
    "# заполнение тензоров произвольными значениями\n",
    "c = tf.fill((2, 2), value=5.)\n",
    "c.numpy()"
   ]
  },
  {
   "cell_type": "code",
   "execution_count": 19,
   "id": "ecce0330",
   "metadata": {},
   "outputs": [
    {
     "data": {
      "text/plain": [
       "3"
      ]
     },
     "execution_count": 19,
     "metadata": {},
     "output_type": "execute_result"
    }
   ],
   "source": [
    "# создание константных тензоров (не должны изменяться во время выполнения программ)\n",
    "a = tf.constant(3)\n",
    "a.numpy()"
   ]
  },
  {
   "cell_type": "code",
   "execution_count": 22,
   "id": "c7993ba9",
   "metadata": {},
   "outputs": [
    {
     "data": {
      "text/plain": [
       "array([[-0.8828074,  1.5494524],\n",
       "       [ 0.3921401, -1.229013 ]], dtype=float32)"
      ]
     },
     "execution_count": 22,
     "metadata": {},
     "output_type": "execute_result"
    }
   ],
   "source": [
    "# отбор случайных значений для тензора из нормального распределения\n",
    "b = tf.random.normal((2, 2), mean=0, stddev=1)\n",
    "b.numpy()"
   ]
  },
  {
   "cell_type": "code",
   "execution_count": 23,
   "id": "840f742b",
   "metadata": {},
   "outputs": [
    {
     "data": {
      "text/plain": [
       "array([[-0.22129059,  0.85585594],\n",
       "       [-0.754931  ,  1.1418471 ]], dtype=float32)"
      ]
     },
     "execution_count": 23,
     "metadata": {},
     "output_type": "execute_result"
    }
   ],
   "source": [
    "# отбор случайных значений для тензора из равномерного распределения\n",
    "a = tf.random.uniform((2, 2), minval=-2, maxval=2)\n",
    "a.numpy()"
   ]
  },
  {
   "cell_type": "code",
   "execution_count": 24,
   "id": "1f4e30dd",
   "metadata": {},
   "outputs": [
    {
     "data": {
      "text/plain": [
       "<bound method _EagerTensorBase.numpy of <tf.Tensor: shape=(2, 2), dtype=float32, numpy=\n",
       "array([[2., 2.],\n",
       "       [2., 2.]], dtype=float32)>>"
      ]
     },
     "execution_count": 24,
     "metadata": {},
     "output_type": "execute_result"
    }
   ],
   "source": [
    "# сложение тензоров\n",
    "c = tf.ones((2, 2))\n",
    "d = tf.ones((2, 2))\n",
    "e = c + d\n",
    "e.numpy"
   ]
  },
  {
   "cell_type": "code",
   "execution_count": 25,
   "id": "a018b15b",
   "metadata": {},
   "outputs": [
    {
     "data": {
      "text/plain": [
       "array([[4., 4.],\n",
       "       [4., 4.]], dtype=float32)"
      ]
     },
     "execution_count": 25,
     "metadata": {},
     "output_type": "execute_result"
    }
   ],
   "source": [
    "f = 2 * e\n",
    "f.numpy()"
   ]
  },
  {
   "cell_type": "code",
   "execution_count": 27,
   "id": "8c56a50a",
   "metadata": {},
   "outputs": [
    {
     "data": {
      "text/plain": [
       "array([[14., 14.],\n",
       "       [14., 14.]], dtype=float32)"
      ]
     },
     "execution_count": 27,
     "metadata": {},
     "output_type": "execute_result"
    }
   ],
   "source": [
    "# поэлементное умножение (при умножении тензоров мы получаем не матричное умножение, а поэлементное)\n",
    "c = tf.fill((2, 2), 2.)\n",
    "d = tf.fill((2, 2), 7.)\n",
    "e = c * d\n",
    "e.numpy()"
   ]
  },
  {
   "cell_type": "code",
   "execution_count": 32,
   "id": "650884d8",
   "metadata": {},
   "outputs": [
    {
     "data": {
      "text/plain": [
       "array([[1., 0., 0., 0.],\n",
       "       [0., 1., 0., 0.],\n",
       "       [0., 0., 1., 0.],\n",
       "       [0., 0., 0., 1.]], dtype=float32)"
      ]
     },
     "execution_count": 32,
     "metadata": {},
     "output_type": "execute_result"
    }
   ],
   "source": [
    "# создание единичной матрицы - это квадратная матрица, элементы которой равны 0 везде, кроме главной диагонали, где они равны 1\n",
    "tf.eye(4).numpy()"
   ]
  },
  {
   "cell_type": "code",
   "execution_count": 36,
   "id": "0475e00e",
   "metadata": {},
   "outputs": [
    {
     "data": {
      "text/plain": [
       "array([1, 2, 3, 4], dtype=int32)"
      ]
     },
     "execution_count": 36,
     "metadata": {},
     "output_type": "execute_result"
    }
   ],
   "source": [
    "# tf.range(начало, граница(не включительно), дельта)\n",
    "r = tf.range(1, 5, 1)\n",
    "r.numpy()"
   ]
  },
  {
   "cell_type": "code",
   "execution_count": 35,
   "id": "40cedc2c",
   "metadata": {},
   "outputs": [
    {
     "data": {
      "text/plain": [
       "array([[1, 0, 0, 0],\n",
       "       [0, 2, 0, 0],\n",
       "       [0, 0, 3, 0],\n",
       "       [0, 0, 0, 4]], dtype=int32)"
      ]
     },
     "execution_count": 35,
     "metadata": {},
     "output_type": "execute_result"
    }
   ],
   "source": [
    "# диагональная матрица - так же являются ненулевыми по диагонали, но по диагонали могут быть произвольные значения\n",
    "d = tf.linalg.diag(r)\n",
    "d.numpy()"
   ]
  },
  {
   "cell_type": "code",
   "execution_count": 38,
   "id": "60d74123",
   "metadata": {},
   "outputs": [
    {
     "data": {
      "text/plain": [
       "array([[1., 1., 1.],\n",
       "       [1., 1., 1.]], dtype=float32)"
      ]
     },
     "execution_count": 38,
     "metadata": {},
     "output_type": "execute_result"
    }
   ],
   "source": [
    "# получение транспонированной матрицы\n",
    "a = tf.ones((2, 3))\n",
    "a.numpy()"
   ]
  },
  {
   "cell_type": "code",
   "execution_count": 39,
   "id": "6969740a",
   "metadata": {},
   "outputs": [
    {
     "data": {
      "text/plain": [
       "array([[1., 1.],\n",
       "       [1., 1.],\n",
       "       [1., 1.]], dtype=float32)"
      ]
     },
     "execution_count": 39,
     "metadata": {},
     "output_type": "execute_result"
    }
   ],
   "source": [
    "at = tf.transpose(a)\n",
    "at.numpy()"
   ]
  },
  {
   "cell_type": "code",
   "execution_count": 40,
   "id": "6c9e8b51",
   "metadata": {},
   "outputs": [
    {
     "data": {
      "text/plain": [
       "array([[3., 3., 3., 3.],\n",
       "       [3., 3., 3., 3.]], dtype=float32)"
      ]
     },
     "execution_count": 40,
     "metadata": {},
     "output_type": "execute_result"
    }
   ],
   "source": [
    "# выполнение матричного умножения\n",
    "b = tf.ones((3, 4))\n",
    "c = tf.matmul(a, b)\n",
    "c.numpy()"
   ]
  },
  {
   "cell_type": "code",
   "execution_count": 41,
   "id": "9b75feed",
   "metadata": {},
   "outputs": [
    {
     "data": {
      "text/plain": [
       "array([[1, 1],\n",
       "       [1, 1]], dtype=int32)"
      ]
     },
     "execution_count": 41,
     "metadata": {},
     "output_type": "execute_result"
    }
   ],
   "source": [
    "# смена типа данных тензора\n",
    "a = tf.ones((2, 2), dtype=tf.int32)\n",
    "a.numpy()"
   ]
  },
  {
   "cell_type": "code",
   "execution_count": 45,
   "id": "bd1f1e33",
   "metadata": {},
   "outputs": [
    {
     "data": {
      "text/plain": [
       "array([[1., 1.],\n",
       "       [1., 1.]], dtype=float32)"
      ]
     },
     "execution_count": 45,
     "metadata": {},
     "output_type": "execute_result"
    }
   ],
   "source": [
    "b = tf.cast(a, tf.float32)\n",
    "b.numpy()"
   ]
  },
  {
   "cell_type": "code",
   "execution_count": 46,
   "id": "4bb01124",
   "metadata": {},
   "outputs": [
    {
     "data": {
      "text/plain": [
       "array([1., 1., 1., 1., 1., 1., 1., 1.], dtype=float32)"
      ]
     },
     "execution_count": 46,
     "metadata": {},
     "output_type": "execute_result"
    }
   ],
   "source": [
    "# манипуляция с формами тензоров. reshape - позволяет конвертировать тензоры в тензоры другой формы\n",
    "a = tf.ones(8)\n",
    "a.numpy()"
   ]
  },
  {
   "cell_type": "code",
   "execution_count": 48,
   "id": "06b77bc7",
   "metadata": {},
   "outputs": [
    {
     "data": {
      "text/plain": [
       "array([[1., 1.],\n",
       "       [1., 1.],\n",
       "       [1., 1.],\n",
       "       [1., 1.]], dtype=float32)"
      ]
     },
     "execution_count": 48,
     "metadata": {},
     "output_type": "execute_result"
    }
   ],
   "source": [
    "b = tf.reshape(a, (4, 2))\n",
    "b.numpy()"
   ]
  },
  {
   "cell_type": "code",
   "execution_count": 49,
   "id": "49228fcf",
   "metadata": {},
   "outputs": [
    {
     "data": {
      "text/plain": [
       "array([[[1., 1.],\n",
       "        [1., 1.]],\n",
       "\n",
       "       [[1., 1.],\n",
       "        [1., 1.]]], dtype=float32)"
      ]
     },
     "execution_count": 49,
     "metadata": {},
     "output_type": "execute_result"
    }
   ],
   "source": [
    "c = tf.reshape(a, (2, 2, 2))\n",
    "c.numpy()"
   ]
  },
  {
   "cell_type": "code",
   "execution_count": 50,
   "id": "0f4cdffa",
   "metadata": {},
   "outputs": [
    {
     "data": {
      "text/plain": [
       "TensorShape([2])"
      ]
     },
     "execution_count": 50,
     "metadata": {},
     "output_type": "execute_result"
    }
   ],
   "source": [
    "# получение формы тензора\n",
    "a = tf.ones(2)\n",
    "a.get_shape()"
   ]
  },
  {
   "cell_type": "code",
   "execution_count": 53,
   "id": "83e57b62",
   "metadata": {},
   "outputs": [
    {
     "data": {
      "text/plain": [
       "TensorShape([1, 2])"
      ]
     },
     "execution_count": 53,
     "metadata": {},
     "output_type": "execute_result"
    }
   ],
   "source": [
    "# expand_dims добавляет в тензор новую размерность размера 1 \n",
    "b = tf.expand_dims(a, 0)\n",
    "b.get_shape()"
   ]
  },
  {
   "cell_type": "code",
   "execution_count": 54,
   "id": "38e23dd8",
   "metadata": {},
   "outputs": [
    {
     "data": {
      "text/plain": [
       "array([[1., 1.]], dtype=float32)"
      ]
     },
     "execution_count": 54,
     "metadata": {},
     "output_type": "execute_result"
    }
   ],
   "source": [
    "b.numpy()"
   ]
  },
  {
   "cell_type": "code",
   "execution_count": 55,
   "id": "e56f7fe0",
   "metadata": {},
   "outputs": [
    {
     "data": {
      "text/plain": [
       "TensorShape([2, 1])"
      ]
     },
     "execution_count": 55,
     "metadata": {},
     "output_type": "execute_result"
    }
   ],
   "source": [
    "c = tf.expand_dims(a, 1)\n",
    "c.get_shape()"
   ]
  },
  {
   "cell_type": "code",
   "execution_count": 56,
   "id": "96f92b93",
   "metadata": {},
   "outputs": [
    {
     "data": {
      "text/plain": [
       "array([[1.],\n",
       "       [1.]], dtype=float32)"
      ]
     },
     "execution_count": 56,
     "metadata": {},
     "output_type": "execute_result"
    }
   ],
   "source": [
    "c.numpy()"
   ]
  },
  {
   "cell_type": "code",
   "execution_count": 57,
   "id": "91d6902d",
   "metadata": {},
   "outputs": [
    {
     "data": {
      "text/plain": [
       "TensorShape([2])"
      ]
     },
     "execution_count": 57,
     "metadata": {},
     "output_type": "execute_result"
    }
   ],
   "source": [
    "# squeeze удаляет из тензора все размерности размера 1, превращая например векторк-строку 2 ранга в вектор 1-го ранга\n",
    "d = tf.squeeze(b)\n",
    "d.get_shape()"
   ]
  },
  {
   "cell_type": "code",
   "execution_count": 59,
   "id": "48d46789",
   "metadata": {},
   "outputs": [
    {
     "data": {
      "text/plain": [
       "array([1., 1.], dtype=float32)"
      ]
     },
     "execution_count": 59,
     "metadata": {},
     "output_type": "execute_result"
    }
   ],
   "source": [
    "d.numpy()"
   ]
  },
  {
   "cell_type": "code",
   "execution_count": 60,
   "id": "0dbc1633",
   "metadata": {},
   "outputs": [
    {
     "data": {
      "text/plain": [
       "array([0., 1.], dtype=float32)"
      ]
     },
     "execution_count": 60,
     "metadata": {},
     "output_type": "execute_result"
    }
   ],
   "source": [
    "# примеры транслирования - добавления к матрицам тензорной системы вектора разного размера\n",
    "a = tf.ones((2, 2))\n",
    "b = tf.range(0, 2, 1, dtype=tf.float32) \n",
    "# если не задать явно тип, то будет ошибка, т.к. tensorflow не выполняет неявное приведение типов\n",
    "b.numpy()"
   ]
  },
  {
   "cell_type": "code",
   "execution_count": 61,
   "id": "f551e75b",
   "metadata": {},
   "outputs": [
    {
     "data": {
      "text/plain": [
       "array([[1., 2.],\n",
       "       [1., 2.]], dtype=float32)"
      ]
     },
     "execution_count": 61,
     "metadata": {},
     "output_type": "execute_result"
    }
   ],
   "source": [
    "c = a + b\n",
    "c.numpy()"
   ]
  },
  {
   "cell_type": "code",
   "execution_count": 62,
   "id": "42a293c7",
   "metadata": {},
   "outputs": [
    {
     "data": {
      "text/plain": [
       "<tf.Tensor: shape=(), dtype=int32, numpy=7>"
      ]
     },
     "execution_count": 62,
     "metadata": {},
     "output_type": "execute_result"
    }
   ],
   "source": [
    "# TensorFlow выполняет только декларативное сложение\n",
    "a = tf.constant(3)\n",
    "b = tf.constant(4)\n",
    "c = a + b\n",
    "c"
   ]
  },
  {
   "cell_type": "code",
   "execution_count": 63,
   "id": "beac03a5",
   "metadata": {},
   "outputs": [
    {
     "data": {
      "text/plain": [
       "7"
      ]
     },
     "execution_count": 63,
     "metadata": {},
     "output_type": "execute_result"
    }
   ],
   "source": [
    "c.numpy()"
   ]
  },
  {
   "cell_type": "code",
   "execution_count": 80,
   "id": "7655c650",
   "metadata": {},
   "outputs": [],
   "source": [
    "# обработка сеансов явным образом\n",
    "tf.compat.v1.disable_eager_execution() # need to disable eager in TF2.x\n",
    "sess = tfc.Session()\n",
    "a = tf.ones((2, 2))\n",
    "b = tf.matmul(a, a)"
   ]
  },
  {
   "cell_type": "code",
   "execution_count": 81,
   "id": "04c4e9f7",
   "metadata": {},
   "outputs": [
    {
     "name": "stdout",
     "output_type": "stream",
     "text": [
      "[[2. 2.]\n",
      " [2. 2.]]\n"
     ]
    }
   ],
   "source": [
    "print(sess.run(b))"
   ]
  },
  {
   "cell_type": "code",
   "execution_count": 91,
   "id": "73bcd2d0",
   "metadata": {},
   "outputs": [
    {
     "data": {
      "text/plain": [
       "<tf.Variable 'Variable_4:0' shape=(2, 2) dtype=float32>"
      ]
     },
     "execution_count": 91,
     "metadata": {},
     "output_type": "execute_result"
    }
   ],
   "source": [
    "# объекты-переменные Variable служат контейнером для тензоров\n",
    "a = tf.Variable(tf.ones((2, 2)))\n",
    "a"
   ]
  },
  {
   "cell_type": "code",
   "execution_count": 98,
   "id": "a047abd6",
   "metadata": {},
   "outputs": [
    {
     "ename": "AttributeError",
     "evalue": "module 'tensorflow' has no attribute 'local_variables_initializer'",
     "output_type": "error",
     "traceback": [
      "\u001b[0;31m---------------------------------------------------------------------------\u001b[0m",
      "\u001b[0;31mAttributeError\u001b[0m                            Traceback (most recent call last)",
      "\u001b[0;32m<ipython-input-98-756d013293cc>\u001b[0m in \u001b[0;36m<module>\u001b[0;34m\u001b[0m\n\u001b[1;32m      1\u001b[0m \u001b[0;31m# tf.global_variables_initializer() - инициализирует все переменные для расчета. более не используется\u001b[0m\u001b[0;34m\u001b[0m\u001b[0;34m\u001b[0m\u001b[0;34m\u001b[0m\u001b[0m\n\u001b[0;32m----> 2\u001b[0;31m \u001b[0minit_op\u001b[0m \u001b[0;34m=\u001b[0m \u001b[0mtf\u001b[0m\u001b[0;34m.\u001b[0m\u001b[0mlocal_variables_initializer\u001b[0m\u001b[0;34m(\u001b[0m\u001b[0;34m)\u001b[0m\u001b[0;34m\u001b[0m\u001b[0;34m\u001b[0m\u001b[0m\n\u001b[0m\u001b[1;32m      3\u001b[0m \u001b[0msess\u001b[0m\u001b[0;34m.\u001b[0m\u001b[0mrun\u001b[0m\u001b[0;34m(\u001b[0m\u001b[0minit_op\u001b[0m\u001b[0;34m)\u001b[0m\u001b[0;34m\u001b[0m\u001b[0;34m\u001b[0m\u001b[0m\n\u001b[1;32m      4\u001b[0m \u001b[0mprint\u001b[0m\u001b[0;34m(\u001b[0m\u001b[0msess\u001b[0m\u001b[0;34m.\u001b[0m\u001b[0mrun\u001b[0m\u001b[0;34m(\u001b[0m\u001b[0ma\u001b[0m\u001b[0;34m)\u001b[0m\u001b[0;34m)\u001b[0m\u001b[0;34m\u001b[0m\u001b[0;34m\u001b[0m\u001b[0m\n",
      "\u001b[0;31mAttributeError\u001b[0m: module 'tensorflow' has no attribute 'local_variables_initializer'"
     ]
    }
   ],
   "source": [
    "# tf.global_variables_initializer() - инициализирует все переменные для расчета. более не используется\n",
    "init_op = tf.local_variables_initializer()\n",
    "sess.run(init_op)\n",
    "print(sess.run(a))"
   ]
  },
  {
   "cell_type": "code",
   "execution_count": 99,
   "id": "24e84a0b",
   "metadata": {},
   "outputs": [
    {
     "data": {
      "text/plain": [
       "array([[0., 0.],\n",
       "       [0., 0.]], dtype=float32)"
      ]
     },
     "execution_count": 99,
     "metadata": {},
     "output_type": "execute_result"
    }
   ],
   "source": [
    "# при помощи функции assign мы можем обновить значение существующей переменной\n",
    "tf.compat.v1.disable_eager_execution() # need to disable eager in TF2.x\n",
    "sess = tfc.Session()\n",
    "sess.run(a.assign(tf.zeros((2, 2))))\n",
    "sess.run(a)"
   ]
  },
  {
   "cell_type": "markdown",
   "id": "676b5882",
   "metadata": {},
   "source": [
    "## Chapter 3"
   ]
  },
  {
   "cell_type": "code",
   "execution_count": null,
   "id": "94b9f4ab",
   "metadata": {},
   "outputs": [],
   "source": [
    "# игрушечный набор регрессионных данных\n",
    "import numpy as np\n",
    "np.random.seed(456)\n",
    "import  tensorflow as tf\n",
    "tf.random.set_seed(456)\n",
    "from matplotlib import rc\n",
    "rc('text', usetex=True)"
   ]
  },
  {
   "cell_type": "code",
   "execution_count": 114,
   "id": "23767f69",
   "metadata": {},
   "outputs": [],
   "source": [
    "import matplotlib.pyplot as plt\n",
    "plt.rcParams.update(plt.rcParamsDefault)\n",
    "from scipy.stats import pearsonr\n",
    "from sklearn.metrics import mean_squared_error"
   ]
  },
  {
   "cell_type": "code",
   "execution_count": 105,
   "id": "ef7bf645",
   "metadata": {},
   "outputs": [],
   "source": [
    "# функции ошибок\n",
    "def pearson_r2_score(y, y_pred):\n",
    " # \"\"\"Computes Pearson R^2 (square of Pearson correlation).\"\"\"\n",
    "  return pearsonr(y, y_pred)[0]**2\n",
    "\n",
    "def rms_score(y_true, y_pred):\n",
    "# \"\"\"Computes RMS error.\"\"\"\n",
    "  return np.sqrt(mean_squared_error(y_true, y_pred))"
   ]
  },
  {
   "cell_type": "code",
   "execution_count": 236,
   "id": "b1204a80",
   "metadata": {},
   "outputs": [],
   "source": [
    "# Generate synthetic data\n",
    "N = 3\n",
    "#N = 100\n",
    "w_true = 5\n",
    "b_true = 2\n",
    "noise_scale = .1\n",
    "x_np = np.random.rand(N, 1)\n",
    "noise = np.random.normal(scale=noise_scale, size=(N, 1))\n",
    "# Convert shape of y_np to (N,)\n",
    "y_np = np.reshape(w_true * x_np  + b_true + noise, (-1))"
   ]
  },
  {
   "cell_type": "code",
   "execution_count": 229,
   "id": "b9b894fa",
   "metadata": {},
   "outputs": [
    {
     "data": {
      "image/png": "[encoded data removed]",
      "text/plain": [
       "<Figure size 640x480 with 1 Axes>"
      ]
     },
     "metadata": {},
     "output_type": "display_data"
    }
   ],
   "source": [
    "# Save image of the data distribution\n",
    "plt.scatter(x_np, y_np);\n",
    "plt.xlabel(\"x\")\n",
    "plt.ylabel(\"y\")\n",
    "plt.xlim(0, 1)\n",
    "plt.title(\"Toy Linear Regression Data, $y = 5x + 2 + N(0, 1)$\")\n",
    "plt.savefig(\"lr_data.png\");"
   ]
  },
  {
   "cell_type": "code",
   "execution_count": 240,
   "id": "7df97c44",
   "metadata": {},
   "outputs": [],
   "source": [
    "# тренировка линейной регрессионной модели\n",
    "# Generate tensorflow graph\n",
    "# placeholders - (заполнитель) это способ ввода информации в вычислительный граф\n",
    "\n",
    "import tensorflow.compat.v1 as tfc\n",
    "graph = tf.Graph()\n",
    "with graph.as_default():\n",
    "    with tf.name_scope('placeholders'):\n",
    "        x = tfc.placeholder(tf.float32, (3, 1))\n",
    "        y = tfc.placeholder(tf.float32, (3, ))\n",
    "# name_scope (область имен) - представляет собой механизм определения областей видимости для управления коллекциями переменных\n",
    "# обратите внимание, что x - это скаляр, поэтому W - это одиночный заучиваемый вес\n",
    "    with tf.name_scope('weights'):\n",
    "        W = tf.Variable(tfc.random_normal((1, 1)))\n",
    "        b = tf.Variable(tfc.random_normal((1,)))\n",
    "    with tf.name_scope('prediction'):\n",
    "        y_pred = tf.matmul(x,W) + b\n",
    "    with tf.name_scope('loss'):\n",
    "        l = tf.reduce_sum((y-y_pred)**2)\n",
    "    #Добавить оптимизацию тренировки\n",
    "    with tf.name_scope('optim'):\n",
    "        #Задать скорость заучивания .001, как рекомендовано выше.\n",
    "        train_op = tfc.train.AdamOptimizer(.001).minimize(l)\n",
    "    with tf.name_scope('summaries'):\n",
    "        #Запись сводки о переменных(скалярных величинах) в заданный каталог журналов\n",
    "        # добавление сводного отчета для функции потерь\n",
    "        tfc.summary.scalar('loss', l)\n",
    "        #Объединение нескольких сводок в одну\n",
    "        merged = tfc.summary.merge_all()\n",
    "\n",
    "    train_writer = tfc.summary.FileWriter('/tmp/lr-train', graph)\n",
    "\n",
    "    n_steps = 8000\n",
    "\n",
    "    with tfc.Session() as sess:\n",
    "        sess.run(tfc.global_variables_initializer())\n",
    "        \n",
    "        #Натренировать модель\n",
    "        for i in range(n_steps):\n",
    "            feed_dict1 = {x: [[1.], [2.], [3.]], y: [2., 3., 4.]}\n",
    "            _, summary, loss = sess.run([train_op, merged, l], feed_dict=feed_dict1)\n",
    "            train_writer.add_summary(summary, i)\n",
    "\n",
    "            # print epoch and loss\n",
    "            if i % 100 == 0:\n",
    "                print(f'Epoch: {i}'.ljust(13) + f'loss: {loss:.4f}'.ljust(16))\n",
    "            \n",
    "              # Get weights\n",
    "            w_final, b_final = sess.run([W, b])\n",
    "\n",
    "              # Make Predictions\n",
    "            y_pred_np = sess.run(y_pred, feed_dict=feed_dict1)"
   ]
  },
  {
   "cell_type": "code",
   "execution_count": 232,
   "id": "d4a46966",
   "metadata": {},
   "outputs": [],
   "source": [
    "#y_pred_np = np.reshape(y_pred_np, -1)"
   ]
  },
  {
   "cell_type": "code",
   "execution_count": 246,
   "id": "c25e343a",
   "metadata": {},
   "outputs": [
    {
     "name": "stdout",
     "output_type": "stream",
     "text": [
      "Pearson R^2: 0.182427\n"
     ]
    }
   ],
   "source": [
    "# квадратичный коэффициент корреляции Пирсона  - это мера корреляции между двумя переменными, которая принимает значение от +1 до 0\n",
    "# при этом +1 указывает на идеальную корреляцию, а 0 - на отсутствие корреляции\n",
    "y_pred_np = np.reshape(y_pred_np, -1)\n",
    "r2 = pearson_r2_score(y_np, y_pred_np)\n",
    "print(\"Pearson R^2: %f\" % r2)"
   ]
  },
  {
   "cell_type": "code",
   "execution_count": 243,
   "id": "60fb0d78",
   "metadata": {},
   "outputs": [
    {
     "name": "stdout",
     "output_type": "stream",
     "text": [
      "RMS: 0.628583\n"
     ]
    }
   ],
   "source": [
    "# RMSE - является мерой усредненной разницы между предсказанными значениями и истинными\n",
    "rms = rms_score(y_np, y_pred_np)\n",
    "print(\"RMS: %f\" % rms)"
   ]
  },
  {
   "cell_type": "code",
   "execution_count": 244,
   "id": "35539b8d",
   "metadata": {},
   "outputs": [
    {
     "data": {
      "image/png": "[encoded data removed]",
      "text/plain": [
       "<Figure size 640x480 with 1 Axes>"
      ]
     },
     "metadata": {},
     "output_type": "display_data"
    }
   ],
   "source": [
    "\n",
    "# Clear figure\n",
    "plt.clf()\n",
    "plt.xlabel(\"Y-true\")\n",
    "plt.ylabel(\"Y-pred\")\n",
    "plt.title(\"Predicted versus True values \"\n",
    "          r\"(Pearson $R^2$: $0.994$)\")\n",
    "plt.scatter(y_np, y_pred_np)\n",
    "plt.savefig(\"lr_pred.png\")\n",
    "\n",
    "# Now draw with learned regression line\n",
    "plt.clf()\n",
    "plt.xlabel(\"x\")\n",
    "plt.ylabel(\"y\")\n",
    "plt.title(\"True Model versus Learned Model \"\n",
    "          r\"(RMS: $1.027620$)\")\n",
    "plt.xlim(0, 1)\n",
    "plt.scatter(x_np, y_np)\n",
    "x_left = 0\n",
    "y_left = w_final[0]*x_left + b_final\n",
    "x_right = 1\n",
    "y_right = w_final[0]*x_right + b_final\n",
    "plt.plot([x_left, x_right], [y_left, y_right], color='k')\n",
    "plt.savefig(\"lr_learned.png\")\n"
   ]
  },
  {
   "cell_type": "code",
   "execution_count": null,
   "id": "56749bdf",
   "metadata": {},
   "outputs": [],
   "source": [
    "# пример логистической регрессии\n",
    "import numpy as np\n",
    "np.random.seed(456)\n",
    "import tensorflow as tf\n",
    "tf.set_random_seed(456)\n",
    "import matplotlib.pyplot as plt\n",
    "from sklearn.metrics import accuracy_score\n",
    "from scipy.special import logit\n",
    "\n",
    "# Generate synthetic data\n",
    "N = 100\n",
    "# Zeros form a Gaussian centered at (-1, -1)\n",
    "x_zeros = np.random.multivariate_normal(\n",
    "    mean=np.array((-1, -1)), cov=.1*np.eye(2), size=(N//2,))\n",
    "y_zeros = np.zeros((N//2,))\n",
    "# Ones form a Gaussian centered at (1, 1)\n",
    "x_ones = np.random.multivariate_normal(\n",
    "    mean=np.array((1, 1)), cov=.1*np.eye(2), size=(N//2,))\n",
    "y_ones = np.ones((N//2,))\n",
    "\n",
    "x_np = np.vstack([x_zeros, x_ones])\n",
    "y_np = np.concatenate([y_zeros, y_ones])\n",
    "\n",
    "# Save image of the data distribution\n",
    "plt.xlabel(r\"$x_1$\")\n",
    "plt.ylabel(r\"$x_2$\")\n",
    "plt.title(\"Toy Logistic Regression Data\")\n",
    "\n",
    "# Plot Zeros\n",
    "plt.scatter(x_zeros[:, 0], x_zeros[:, 1], color=\"blue\")\n",
    "plt.scatter(x_ones[:, 0], x_ones[:, 1], color=\"red\")\n",
    "plt.savefig(\"logistic_data.png\")\n",
    "\n",
    "# Generate tensorflow graph\n",
    "with tf.name_scope(\"placeholders\"):\n",
    "  x = tf.placeholder(tf.float32, (N, 2))\n",
    "  y = tf.placeholder(tf.float32, (N,))\n",
    "with tf.name_scope(\"weights\"):\n",
    "  W = tf.Variable(tf.random_normal((2, 1)))\n",
    "  b = tf.Variable(tf.random_normal((1,)))\n",
    "with tf.name_scope(\"prediction\"):\n",
    "  y_logit = tf.squeeze(tf.matmul(x, W) + b)\n",
    "  # the sigmoid gives the class probability of 1\n",
    "  y_one_prob = tf.sigmoid(y_logit)\n",
    "  # Rounding P(y=1) will give the correct prediction.\n",
    "  y_pred = tf.round(y_one_prob)\n",
    "\n",
    "with tf.name_scope(\"loss\"):\n",
    "  # Compute the cross-entropy term for each datapoint\n",
    "  entropy = tf.nn.sigmoid_cross_entropy_with_logits(logits=y_logit, labels=y)\n",
    "  # Sum all contributions\n",
    "  l = tf.reduce_sum(entropy)\n",
    "with tf.name_scope(\"optim\"):\n",
    "  train_op = tf.train.AdamOptimizer(.01).minimize(l)\n",
    "\n",
    "with tf.name_scope(\"summaries\"):\n",
    "  tf.summary.scalar(\"loss\", l)\n",
    "  merged = tf.summary.merge_all()\n",
    "\n",
    "train_writer = tf.summary.FileWriter('/tmp/logistic-train', tf.get_default_graph())\n",
    "\n",
    "n_steps = 1000\n",
    "with tf.Session() as sess:\n",
    "  sess.run(tf.global_variables_initializer())\n",
    "  # Train model\n",
    "  for i in range(n_steps):\n",
    "    feed_dict = {x: x_np, y: y_np}\n",
    "    _, summary, loss = sess.run([train_op, merged, l], feed_dict=feed_dict)\n",
    "    print(\"loss: %f\" % loss)\n",
    "    train_writer.add_summary(summary, i)\n",
    "\n",
    "  # Get weights\n",
    "  w_final, b_final = sess.run([W, b])\n",
    "\n",
    "  # Make Predictions\n",
    "  y_pred_np = sess.run(y_pred, feed_dict={x: x_np})\n",
    "\n",
    "score = accuracy_score(y_np, y_pred_np)\n",
    "print(\"Classification Accuracy: %f\" % score)\n",
    "\n",
    "plt.clf()\n",
    "# Save image of the data distribution\n",
    "plt.xlabel(r\"$x_1$\")\n",
    "plt.ylabel(r\"$x_2$\")\n",
    "plt.title(\"Learned Model (Classification Accuracy: 1.00)\")\n",
    "plt.xlim(-2, 2)\n",
    "plt.ylim(-2, 2)\n",
    "\n",
    "# Plot Zeros\n",
    "plt.scatter(x_zeros[:, 0], x_zeros[:, 1], color=\"blue\")\n",
    "plt.scatter(x_ones[:, 0], x_ones[:, 1], color=\"red\")\n",
    "\n",
    "x_left = -2\n",
    "y_left = (1./w_final[1]) * (-b_final + logit(.5) - w_final[0]*x_left)\n",
    "\n",
    "x_right = 2\n",
    "y_right = (1./w_final[1]) * (-b_final + logit(.5) - w_final[0]*x_right)\n",
    "plt.plot([x_left, x_right], [y_left, y_right], color='k')\n",
    "\n",
    "plt.savefig(\"logistic_pred.png\")"
   ]
  }
 ],
 "metadata": {
  "kernelspec": {
   "display_name": "env01",
   "language": "python",
   "name": "env01"
  },
  "language_info": {
   "codemirror_mode": {
    "name": "ipython",
    "version": 3
   },
   "file_extension": ".py",
   "mimetype": "text/x-python",
   "name": "python",
   "nbconvert_exporter": "python",
   "pygments_lexer": "ipython3",
   "version": "3.6.9"
  }
 },
 "nbformat": 4,
 "nbformat_minor": 5
}
