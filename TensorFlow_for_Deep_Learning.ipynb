{
 "cells": [
  {
   "cell_type": "markdown",
   "id": "c7709d6f",
   "metadata": {},
   "source": [
    "## Chapter 2"
   ]
  },
  {
   "cell_type": "markdown",
   "id": "16527b0a",
   "metadata": {},
   "source": [
    "Инициализация интерактвиного сеанса Tensorflow"
   ]
  },
  {
   "cell_type": "code",
   "execution_count": 2,
   "id": "b1f8f997",
   "metadata": {},
   "outputs": [],
   "source": [
    "import tensorflow as tf"
   ]
  },
  {
   "cell_type": "code",
   "execution_count": 3,
   "id": "13f6aa93",
   "metadata": {},
   "outputs": [
    {
     "data": {
      "text/plain": [
       "'2.6.2'"
      ]
     },
     "execution_count": 3,
     "metadata": {},
     "output_type": "execute_result"
    }
   ],
   "source": [
    "tf.__version__"
   ]
  },
  {
   "cell_type": "code",
   "execution_count": 4,
   "id": "079e1964",
   "metadata": {},
   "outputs": [],
   "source": [
    "#from version v2.x you should use this for activate version\n",
    "import tensorflow.compat.v1 as tfc"
   ]
  },
  {
   "cell_type": "code",
   "execution_count": 5,
   "id": "7df7caf0",
   "metadata": {},
   "outputs": [],
   "source": [
    "sess = tfc.InteractiveSession()"
   ]
  },
  {
   "cell_type": "code",
   "execution_count": 10,
   "id": "06958b76",
   "metadata": {},
   "outputs": [],
   "source": [
    "# создание тензора нулей\n",
    "a = tf.zeros(2)"
   ]
  },
  {
   "cell_type": "code",
   "execution_count": 16,
   "id": "32a9121e",
   "metadata": {},
   "outputs": [
    {
     "name": "stdout",
     "output_type": "stream",
     "text": [
      "[0. 0.]\n"
     ]
    }
   ],
   "source": [
    "# возрат значения\n",
    "print(a.numpy())"
   ]
  },
  {
   "cell_type": "code",
   "execution_count": 17,
   "id": "e5f3aae9",
   "metadata": {},
   "outputs": [
    {
     "data": {
      "text/plain": [
       "array([[[1., 1.],\n",
       "        [1., 1.]],\n",
       "\n",
       "       [[1., 1.],\n",
       "        [1., 1.]]], dtype=float32)"
      ]
     },
     "execution_count": 17,
     "metadata": {},
     "output_type": "execute_result"
    }
   ],
   "source": [
    "# выведение матрицы с единицами\n",
    "b = tf.ones((2, 2, 2))\n",
    "b.numpy()"
   ]
  },
  {
   "cell_type": "code",
   "execution_count": 18,
   "id": "1e6c5c17",
   "metadata": {},
   "outputs": [
    {
     "data": {
      "text/plain": [
       "array([[5., 5.],\n",
       "       [5., 5.]], dtype=float32)"
      ]
     },
     "execution_count": 18,
     "metadata": {},
     "output_type": "execute_result"
    }
   ],
   "source": [
    "# заполнение тензоров произвольными значениями\n",
    "c = tf.fill((2, 2), value=5.)\n",
    "c.numpy()"
   ]
  },
  {
   "cell_type": "code",
   "execution_count": 19,
   "id": "a85fbc40",
   "metadata": {},
   "outputs": [
    {
     "data": {
      "text/plain": [
       "3"
      ]
     },
     "execution_count": 19,
     "metadata": {},
     "output_type": "execute_result"
    }
   ],
   "source": [
    "# создание константных тензоров (не должны изменяться во время выполнения программ)\n",
    "a = tf.constant(3)\n",
    "a.numpy()"
   ]
  },
  {
   "cell_type": "code",
   "execution_count": 22,
   "id": "26af79b3",
   "metadata": {},
   "outputs": [
    {
     "data": {
      "text/plain": [
       "array([[-0.8828074,  1.5494524],\n",
       "       [ 0.3921401, -1.229013 ]], dtype=float32)"
      ]
     },
     "execution_count": 22,
     "metadata": {},
     "output_type": "execute_result"
    }
   ],
   "source": [
    "# отбор случайных значений для тензора из нормального распределения\n",
    "b = tf.random.normal((2, 2), mean=0, stddev=1)\n",
    "b.numpy()"
   ]
  },
  {
   "cell_type": "code",
   "execution_count": 23,
   "id": "9c4eef4d",
   "metadata": {},
   "outputs": [
    {
     "data": {
      "text/plain": [
       "array([[-0.22129059,  0.85585594],\n",
       "       [-0.754931  ,  1.1418471 ]], dtype=float32)"
      ]
     },
     "execution_count": 23,
     "metadata": {},
     "output_type": "execute_result"
    }
   ],
   "source": [
    "# отбор случайных значений для тензора из равномерного распределения\n",
    "a = tf.random.uniform((2, 2), minval=-2, maxval=2)\n",
    "a.numpy()"
   ]
  },
  {
   "cell_type": "code",
   "execution_count": 24,
   "id": "d2afaca8",
   "metadata": {},
   "outputs": [
    {
     "data": {
      "text/plain": [
       "<bound method _EagerTensorBase.numpy of <tf.Tensor: shape=(2, 2), dtype=float32, numpy=\n",
       "array([[2., 2.],\n",
       "       [2., 2.]], dtype=float32)>>"
      ]
     },
     "execution_count": 24,
     "metadata": {},
     "output_type": "execute_result"
    }
   ],
   "source": [
    "# сложение тензоров\n",
    "c = tf.ones((2, 2))\n",
    "d = tf.ones((2, 2))\n",
    "e = c + d\n",
    "e.numpy"
   ]
  },
  {
   "cell_type": "code",
   "execution_count": 25,
   "id": "a4b97e7c",
   "metadata": {},
   "outputs": [
    {
     "data": {
      "text/plain": [
       "array([[4., 4.],\n",
       "       [4., 4.]], dtype=float32)"
      ]
     },
     "execution_count": 25,
     "metadata": {},
     "output_type": "execute_result"
    }
   ],
   "source": [
    "f = 2 * e\n",
    "f.numpy()"
   ]
  },
  {
   "cell_type": "code",
   "execution_count": 27,
   "id": "1e0e36c4",
   "metadata": {},
   "outputs": [
    {
     "data": {
      "text/plain": [
       "array([[14., 14.],\n",
       "       [14., 14.]], dtype=float32)"
      ]
     },
     "execution_count": 27,
     "metadata": {},
     "output_type": "execute_result"
    }
   ],
   "source": [
    "# поэлементное умножение (при умножении тензоров мы получаем не матричное умножение, а поэлементное)\n",
    "c = tf.fill((2, 2), 2.)\n",
    "d = tf.fill((2, 2), 7.)\n",
    "e = c * d\n",
    "e.numpy()"
   ]
  },
  {
   "cell_type": "code",
   "execution_count": 32,
   "id": "37aefad0",
   "metadata": {},
   "outputs": [
    {
     "data": {
      "text/plain": [
       "array([[1., 0., 0., 0.],\n",
       "       [0., 1., 0., 0.],\n",
       "       [0., 0., 1., 0.],\n",
       "       [0., 0., 0., 1.]], dtype=float32)"
      ]
     },
     "execution_count": 32,
     "metadata": {},
     "output_type": "execute_result"
    }
   ],
   "source": [
    "# создание единичной матрицы - это квадратная матрица, элементы которой равны 0 везде, кроме главной диагонали, где они равны 1\n",
    "tf.eye(4).numpy()"
   ]
  },
  {
   "cell_type": "code",
   "execution_count": 36,
   "id": "6d10d41b",
   "metadata": {},
   "outputs": [
    {
     "data": {
      "text/plain": [
       "array([1, 2, 3, 4], dtype=int32)"
      ]
     },
     "execution_count": 36,
     "metadata": {},
     "output_type": "execute_result"
    }
   ],
   "source": [
    "# tf.range(начало, граница(не включительно), дельта)\n",
    "r = tf.range(1, 5, 1)\n",
    "r.numpy()"
   ]
  },
  {
   "cell_type": "code",
   "execution_count": 35,
   "id": "7df02ed4",
   "metadata": {},
   "outputs": [
    {
     "data": {
      "text/plain": [
       "array([[1, 0, 0, 0],\n",
       "       [0, 2, 0, 0],\n",
       "       [0, 0, 3, 0],\n",
       "       [0, 0, 0, 4]], dtype=int32)"
      ]
     },
     "execution_count": 35,
     "metadata": {},
     "output_type": "execute_result"
    }
   ],
   "source": [
    "# диагональная матрица - так же являются ненулевыми по диагонали, но по диагонали могут быть произвольные значения\n",
    "d = tf.linalg.diag(r)\n",
    "d.numpy()"
   ]
  },
  {
   "cell_type": "code",
   "execution_count": 38,
   "id": "30c72dca",
   "metadata": {},
   "outputs": [
    {
     "data": {
      "text/plain": [
       "array([[1., 1., 1.],\n",
       "       [1., 1., 1.]], dtype=float32)"
      ]
     },
     "execution_count": 38,
     "metadata": {},
     "output_type": "execute_result"
    }
   ],
   "source": [
    "# получение транспонированной матрицы\n",
    "a = tf.ones((2, 3))\n",
    "a.numpy()"
   ]
  },
  {
   "cell_type": "code",
   "execution_count": 39,
   "id": "f29e52be",
   "metadata": {},
   "outputs": [
    {
     "data": {
      "text/plain": [
       "array([[1., 1.],\n",
       "       [1., 1.],\n",
       "       [1., 1.]], dtype=float32)"
      ]
     },
     "execution_count": 39,
     "metadata": {},
     "output_type": "execute_result"
    }
   ],
   "source": [
    "at = tf.transpose(a)\n",
    "at.numpy()"
   ]
  },
  {
   "cell_type": "code",
   "execution_count": 40,
   "id": "243e882f",
   "metadata": {},
   "outputs": [
    {
     "data": {
      "text/plain": [
       "array([[3., 3., 3., 3.],\n",
       "       [3., 3., 3., 3.]], dtype=float32)"
      ]
     },
     "execution_count": 40,
     "metadata": {},
     "output_type": "execute_result"
    }
   ],
   "source": [
    "# выполнение матричного умножения\n",
    "b = tf.ones((3, 4))\n",
    "c = tf.matmul(a, b)\n",
    "c.numpy()"
   ]
  },
  {
   "cell_type": "code",
   "execution_count": 41,
   "id": "7984668c",
   "metadata": {},
   "outputs": [
    {
     "data": {
      "text/plain": [
       "array([[1, 1],\n",
       "       [1, 1]], dtype=int32)"
      ]
     },
     "execution_count": 41,
     "metadata": {},
     "output_type": "execute_result"
    }
   ],
   "source": [
    "# смена типа данных тензора\n",
    "a = tf.ones((2, 2), dtype=tf.int32)\n",
    "a.numpy()"
   ]
  },
  {
   "cell_type": "code",
   "execution_count": 45,
   "id": "50494373",
   "metadata": {},
   "outputs": [
    {
     "data": {
      "text/plain": [
       "array([[1., 1.],\n",
       "       [1., 1.]], dtype=float32)"
      ]
     },
     "execution_count": 45,
     "metadata": {},
     "output_type": "execute_result"
    }
   ],
   "source": [
    "b = tf.cast(a, tf.float32)\n",
    "b.numpy()"
   ]
  },
  {
   "cell_type": "code",
   "execution_count": 46,
   "id": "7f727d18",
   "metadata": {},
   "outputs": [
    {
     "data": {
      "text/plain": [
       "array([1., 1., 1., 1., 1., 1., 1., 1.], dtype=float32)"
      ]
     },
     "execution_count": 46,
     "metadata": {},
     "output_type": "execute_result"
    }
   ],
   "source": [
    "# манипуляция с формами тензоров. reshape - позволяет конвертировать тензоры в тензоры другой формы\n",
    "a = tf.ones(8)\n",
    "a.numpy()"
   ]
  },
  {
   "cell_type": "code",
   "execution_count": 48,
   "id": "6161bfc7",
   "metadata": {},
   "outputs": [
    {
     "data": {
      "text/plain": [
       "array([[1., 1.],\n",
       "       [1., 1.],\n",
       "       [1., 1.],\n",
       "       [1., 1.]], dtype=float32)"
      ]
     },
     "execution_count": 48,
     "metadata": {},
     "output_type": "execute_result"
    }
   ],
   "source": [
    "b = tf.reshape(a, (4, 2))\n",
    "b.numpy()"
   ]
  },
  {
   "cell_type": "code",
   "execution_count": 49,
   "id": "ba229afe",
   "metadata": {},
   "outputs": [
    {
     "data": {
      "text/plain": [
       "array([[[1., 1.],\n",
       "        [1., 1.]],\n",
       "\n",
       "       [[1., 1.],\n",
       "        [1., 1.]]], dtype=float32)"
      ]
     },
     "execution_count": 49,
     "metadata": {},
     "output_type": "execute_result"
    }
   ],
   "source": [
    "c = tf.reshape(a, (2, 2, 2))\n",
    "c.numpy()"
   ]
  },
  {
   "cell_type": "code",
   "execution_count": 50,
   "id": "ef997893",
   "metadata": {},
   "outputs": [
    {
     "data": {
      "text/plain": [
       "TensorShape([2])"
      ]
     },
     "execution_count": 50,
     "metadata": {},
     "output_type": "execute_result"
    }
   ],
   "source": [
    "# получение формы тензора\n",
    "a = tf.ones(2)\n",
    "a.get_shape()"
   ]
  },
  {
   "cell_type": "code",
   "execution_count": 53,
   "id": "4ce73772",
   "metadata": {},
   "outputs": [
    {
     "data": {
      "text/plain": [
       "TensorShape([1, 2])"
      ]
     },
     "execution_count": 53,
     "metadata": {},
     "output_type": "execute_result"
    }
   ],
   "source": [
    "# expand_dims добавляет в тензор новую размерность размера 1 \n",
    "b = tf.expand_dims(a, 0)\n",
    "b.get_shape()"
   ]
  },
  {
   "cell_type": "code",
   "execution_count": 54,
   "id": "05e9c67b",
   "metadata": {},
   "outputs": [
    {
     "data": {
      "text/plain": [
       "array([[1., 1.]], dtype=float32)"
      ]
     },
     "execution_count": 54,
     "metadata": {},
     "output_type": "execute_result"
    }
   ],
   "source": [
    "b.numpy()"
   ]
  },
  {
   "cell_type": "code",
   "execution_count": 55,
   "id": "35dd53c2",
   "metadata": {},
   "outputs": [
    {
     "data": {
      "text/plain": [
       "TensorShape([2, 1])"
      ]
     },
     "execution_count": 55,
     "metadata": {},
     "output_type": "execute_result"
    }
   ],
   "source": [
    "c = tf.expand_dims(a, 1)\n",
    "c.get_shape()"
   ]
  },
  {
   "cell_type": "code",
   "execution_count": 56,
   "id": "a6c81815",
   "metadata": {},
   "outputs": [
    {
     "data": {
      "text/plain": [
       "array([[1.],\n",
       "       [1.]], dtype=float32)"
      ]
     },
     "execution_count": 56,
     "metadata": {},
     "output_type": "execute_result"
    }
   ],
   "source": [
    "c.numpy()"
   ]
  },
  {
   "cell_type": "code",
   "execution_count": 57,
   "id": "4049c772",
   "metadata": {},
   "outputs": [
    {
     "data": {
      "text/plain": [
       "TensorShape([2])"
      ]
     },
     "execution_count": 57,
     "metadata": {},
     "output_type": "execute_result"
    }
   ],
   "source": [
    "# squeeze удаляет из тензора все размерности размера 1, превращая например векторк-строку 2 ранга в вектор 1-го ранга\n",
    "d = tf.squeeze(b)\n",
    "d.get_shape()"
   ]
  },
  {
   "cell_type": "code",
   "execution_count": 59,
   "id": "f85b3fb1",
   "metadata": {},
   "outputs": [
    {
     "data": {
      "text/plain": [
       "array([1., 1.], dtype=float32)"
      ]
     },
     "execution_count": 59,
     "metadata": {},
     "output_type": "execute_result"
    }
   ],
   "source": [
    "d.numpy()"
   ]
  },
  {
   "cell_type": "code",
   "execution_count": 60,
   "id": "b24cd27f",
   "metadata": {},
   "outputs": [
    {
     "data": {
      "text/plain": [
       "array([0., 1.], dtype=float32)"
      ]
     },
     "execution_count": 60,
     "metadata": {},
     "output_type": "execute_result"
    }
   ],
   "source": [
    "# примеры транслирования - добавления к матрицам тензорной системы вектора разного размера\n",
    "a = tf.ones((2, 2))\n",
    "b = tf.range(0, 2, 1, dtype=tf.float32) \n",
    "# если не задать явно тип, то будет ошибка, т.к. tensorflow не выполняет неявное приведение типов\n",
    "b.numpy()"
   ]
  },
  {
   "cell_type": "code",
   "execution_count": 61,
   "id": "b47dc043",
   "metadata": {},
   "outputs": [
    {
     "data": {
      "text/plain": [
       "array([[1., 2.],\n",
       "       [1., 2.]], dtype=float32)"
      ]
     },
     "execution_count": 61,
     "metadata": {},
     "output_type": "execute_result"
    }
   ],
   "source": [
    "c = a + b\n",
    "c.numpy()"
   ]
  },
  {
   "cell_type": "code",
   "execution_count": 62,
   "id": "dbaff0d6",
   "metadata": {},
   "outputs": [
    {
     "data": {
      "text/plain": [
       "<tf.Tensor: shape=(), dtype=int32, numpy=7>"
      ]
     },
     "execution_count": 62,
     "metadata": {},
     "output_type": "execute_result"
    }
   ],
   "source": [
    "# TensorFlow выполняет только декларативное сложение\n",
    "a = tf.constant(3)\n",
    "b = tf.constant(4)\n",
    "c = a + b\n",
    "c"
   ]
  },
  {
   "cell_type": "code",
   "execution_count": 63,
   "id": "dc860a3f",
   "metadata": {},
   "outputs": [
    {
     "data": {
      "text/plain": [
       "7"
      ]
     },
     "execution_count": 63,
     "metadata": {},
     "output_type": "execute_result"
    }
   ],
   "source": [
    "c.numpy()"
   ]
  },
  {
   "cell_type": "code",
   "execution_count": 80,
   "id": "6040e32b",
   "metadata": {},
   "outputs": [],
   "source": [
    "# обработка сеансов явным образом\n",
    "tf.compat.v1.disable_eager_execution() # need to disable eager in TF2.x\n",
    "sess = tfc.Session()\n",
    "a = tf.ones((2, 2))\n",
    "b = tf.matmul(a, a)"
   ]
  },
  {
   "cell_type": "code",
   "execution_count": 81,
   "id": "7f6331ac",
   "metadata": {},
   "outputs": [
    {
     "name": "stdout",
     "output_type": "stream",
     "text": [
      "[[2. 2.]\n",
      " [2. 2.]]\n"
     ]
    }
   ],
   "source": [
    "print(sess.run(b))"
   ]
  },
  {
   "cell_type": "code",
   "execution_count": 91,
   "id": "8a4d8800",
   "metadata": {},
   "outputs": [
    {
     "data": {
      "text/plain": [
       "<tf.Variable 'Variable_4:0' shape=(2, 2) dtype=float32>"
      ]
     },
     "execution_count": 91,
     "metadata": {},
     "output_type": "execute_result"
    }
   ],
   "source": [
    "# объекты-переменные Variable служат контейнером для тензоров\n",
    "a = tf.Variable(tf.ones((2, 2)))\n",
    "a"
   ]
  },
  {
   "cell_type": "code",
   "execution_count": 98,
   "id": "49e4c8df",
   "metadata": {},
   "outputs": [
    {
     "ename": "AttributeError",
     "evalue": "module 'tensorflow' has no attribute 'local_variables_initializer'",
     "output_type": "error",
     "traceback": [
      "\u001b[0;31m---------------------------------------------------------------------------\u001b[0m",
      "\u001b[0;31mAttributeError\u001b[0m                            Traceback (most recent call last)",
      "\u001b[0;32m<ipython-input-98-756d013293cc>\u001b[0m in \u001b[0;36m<module>\u001b[0;34m\u001b[0m\n\u001b[1;32m      1\u001b[0m \u001b[0;31m# tf.global_variables_initializer() - инициализирует все переменные для расчета. более не используется\u001b[0m\u001b[0;34m\u001b[0m\u001b[0;34m\u001b[0m\u001b[0;34m\u001b[0m\u001b[0m\n\u001b[0;32m----> 2\u001b[0;31m \u001b[0minit_op\u001b[0m \u001b[0;34m=\u001b[0m \u001b[0mtf\u001b[0m\u001b[0;34m.\u001b[0m\u001b[0mlocal_variables_initializer\u001b[0m\u001b[0;34m(\u001b[0m\u001b[0;34m)\u001b[0m\u001b[0;34m\u001b[0m\u001b[0;34m\u001b[0m\u001b[0m\n\u001b[0m\u001b[1;32m      3\u001b[0m \u001b[0msess\u001b[0m\u001b[0;34m.\u001b[0m\u001b[0mrun\u001b[0m\u001b[0;34m(\u001b[0m\u001b[0minit_op\u001b[0m\u001b[0;34m)\u001b[0m\u001b[0;34m\u001b[0m\u001b[0;34m\u001b[0m\u001b[0m\n\u001b[1;32m      4\u001b[0m \u001b[0mprint\u001b[0m\u001b[0;34m(\u001b[0m\u001b[0msess\u001b[0m\u001b[0;34m.\u001b[0m\u001b[0mrun\u001b[0m\u001b[0;34m(\u001b[0m\u001b[0ma\u001b[0m\u001b[0;34m)\u001b[0m\u001b[0;34m)\u001b[0m\u001b[0;34m\u001b[0m\u001b[0;34m\u001b[0m\u001b[0m\n",
      "\u001b[0;31mAttributeError\u001b[0m: module 'tensorflow' has no attribute 'local_variables_initializer'"
     ]
    }
   ],
   "source": [
    "# tf.global_variables_initializer() - инициализирует все переменные для расчета. более не используется\n",
    "init_op = tf.local_variables_initializer()\n",
    "sess.run(init_op)\n",
    "print(sess.run(a))"
   ]
  },
  {
   "cell_type": "code",
   "execution_count": 99,
   "id": "236fc732",
   "metadata": {},
   "outputs": [
    {
     "data": {
      "text/plain": [
       "array([[0., 0.],\n",
       "       [0., 0.]], dtype=float32)"
      ]
     },
     "execution_count": 99,
     "metadata": {},
     "output_type": "execute_result"
    }
   ],
   "source": [
    "# при помощи функции assign мы можем обновить значение существующей переменной\n",
    "tf.compat.v1.disable_eager_execution() # need to disable eager in TF2.x\n",
    "sess = tfc.Session()\n",
    "sess.run(a.assign(tf.zeros((2, 2))))\n",
    "sess.run(a)"
   ]
  },
  {
   "cell_type": "markdown",
   "id": "9d0c6167",
   "metadata": {},
   "source": [
    "## Chapter 3"
   ]
  },
  {
   "cell_type": "code",
   "execution_count": null,
   "id": "925475ff",
   "metadata": {},
   "outputs": [],
   "source": []
  }
 ],
 "metadata": {
  "kernelspec": {
   "display_name": "env01",
   "language": "python",
   "name": "env01"
  },
  "language_info": {
   "codemirror_mode": {
    "name": "ipython",
    "version": 3
   },
   "file_extension": ".py",
   "mimetype": "text/x-python",
   "name": "python",
   "nbconvert_exporter": "python",
   "pygments_lexer": "ipython3",
   "version": "3.6.9"
  }
 },
 "nbformat": 4,
 "nbformat_minor": 5
}
